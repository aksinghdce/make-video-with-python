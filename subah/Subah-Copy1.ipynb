{
 "cells": [
  {
   "cell_type": "code",
   "execution_count": 56,
   "metadata": {
    "collapsed": true
   },
   "outputs": [],
   "source": [
    "from moviepy.editor import *"
   ]
  },
  {
   "cell_type": "code",
   "execution_count": 57,
   "metadata": {
    "collapsed": true
   },
   "outputs": [],
   "source": [
    "# Background Image taken"
   ]
  },
  {
   "cell_type": "code",
   "execution_count": 75,
   "metadata": {
    "collapsed": false
   },
   "outputs": [],
   "source": [
    "background = ImageClip(\"argha1.jpg\")"
   ]
  },
  {
   "cell_type": "code",
   "execution_count": 130,
   "metadata": {
    "collapsed": true
   },
   "outputs": [],
   "source": [
    "title_pos = (490, 200)"
   ]
  },
  {
   "cell_type": "code",
   "execution_count": 131,
   "metadata": {
    "collapsed": true
   },
   "outputs": [],
   "source": [
    "general_pos = (250, 200)"
   ]
  },
  {
   "cell_type": "code",
   "execution_count": 132,
   "metadata": {
    "collapsed": true
   },
   "outputs": [],
   "source": [
    "# Title audio taken\n",
    "\n",
    "title_audio = AudioFileClip(\"title3.mp3\")\n",
    "\n",
    "# To get the list of fonts:\n",
    "#print ( TextClip.list(\"font\") )\n",
    "\n",
    "# Right font chosen\n",
    "\n",
    "title_text = TextClip(\"शीर्षक -> सुबह, कवी -> श्रीप्रसाद\", font=\"Lohit-Devanagari\", fontsize=32)\n",
    "\n",
    "# Background duration set\n",
    "\n",
    "background = background.set_duration(title_audio.duration)\n",
    "\n",
    "title_video = CompositeVideoClip([background, title_text.set_pos(title_pos)])\n",
    "\n",
    "title_video = title_video.set_duration(title_audio.duration)\n",
    "\n",
    "#title_video = title_video.set_audio(title_audio)\n",
    "\n",
    "#title_video.preview()"
   ]
  },
  {
   "cell_type": "code",
   "execution_count": 133,
   "metadata": {
    "collapsed": true
   },
   "outputs": [],
   "source": [
    "# Para 1\n",
    "\n",
    "para1 = TextClip(\"सूरज की किरणें आती हैं,\\nसारी कलियाँ खिल जाती हैं,\\nअंधकार सब खो जाता है,\\nसब जग सुन्दर हो जाता है\", font=\"Noto-Sans-Devanagari-UI-Bold\", fontsize=32)\n",
    "\n",
    "para1_audio = AudioFileClip(\"para11.mp3\")\n",
    "\n",
    "background = background.set_duration(para1_audio.duration)\n",
    "\n",
    "para1_video = CompositeVideoClip([background, para1.set_pos(general_pos)])\n",
    "\n",
    "para1_video = para1_video.set_duration(para1_audio.duration)\n",
    "\n",
    "#para1_video = para1_video.set_audio(para1_audio)\n",
    "\n",
    "#para1_video.preview()"
   ]
  },
  {
   "cell_type": "code",
   "execution_count": 134,
   "metadata": {
    "collapsed": true
   },
   "outputs": [],
   "source": [
    "# para2\n",
    "\n",
    "para2 = TextClip(\"चिड़ियाँ गाती हैं मिलजुल कर,\\nबहते हैं उनके मीठे स्वर,\\nठंडी-ठंडी हवा सुहानी,\\nचलती है जैसी मस्तानी\", font=\"Noto-Sans-Devanagari-UI-Bold\", fontsize=32)\n",
    "\n",
    "para2_audio = AudioFileClip(\"para22.mp3\")\n",
    "\n",
    "background = background.set_duration(para2_audio.duration)\n",
    "\n",
    "para2_video = CompositeVideoClip([background, para2.set_pos(general_pos)])\n",
    "\n",
    "para2_video = para2_video.set_duration(para2_audio.duration)\n",
    "\n",
    "#para2_video = para2_video.set_audio(para2_audio)\n",
    "\n",
    "#para2_video.preview()"
   ]
  },
  {
   "cell_type": "code",
   "execution_count": 135,
   "metadata": {
    "collapsed": true
   },
   "outputs": [],
   "source": [
    "# para3\n",
    "\n",
    "para3 = TextClip(\"ये प्रातः की सुख बेला है,\\nधरती का सुख अलबेला है,\\nनई ताज़गी नई कहानी,\\nनया जोश पाते हैं प्राणी\", font=\"Noto-Sans-Devanagari-UI-Bold\", fontsize=32)\n",
    "\n",
    "para3_audio = AudioFileClip(\"para33.mp3\")\n",
    "\n",
    "background = background.set_duration(para3_audio.duration)\n",
    "\n",
    "para3_video = CompositeVideoClip([background, para3.set_pos(general_pos)])\n",
    "\n",
    "para3_video = para3_video.set_duration(para3_audio.duration)\n",
    "\n",
    "#para3_video = para3_video.set_audio(para3_audio)\n",
    "\n",
    "#para3_video.preview()"
   ]
  },
  {
   "cell_type": "code",
   "execution_count": 136,
   "metadata": {
    "collapsed": true
   },
   "outputs": [],
   "source": [
    "# para4\n",
    "\n",
    "para4 = TextClip(\"खो देते हैं आलस सारा,\\nऔर काम लगता है प्यारा,\\nसुबह भली लगती है उनको,\\nमेहनत प्यारी लगती जिनको\", font=\"Noto-Sans-Devanagari-UI-Bold\", fontsize=32)\n",
    "\n",
    "para4_audio = AudioFileClip(\"para44.mp3\")\n",
    "\n",
    "background = background.set_duration(para4_audio.duration)\n",
    "\n",
    "para4_video = CompositeVideoClip([background, para4.set_pos(general_pos)])\n",
    "\n",
    "para4_video = para4_video.set_duration(para4_audio.duration)\n",
    "\n",
    "#para4_video = para4_video.set_audio(para4_audio)\n",
    "\n",
    "#para4_video.preview()"
   ]
  },
  {
   "cell_type": "code",
   "execution_count": 137,
   "metadata": {
    "collapsed": true
   },
   "outputs": [],
   "source": [
    "# para5\n",
    "\n",
    "para5 = TextClip(\"मेहनत सबसे अच्छा गुण है\\nआलस बहुत बड़ा दुर्गुण है\\nअगर सुबह भी अलसा जाए\\nतो क्या जग सुन्दर हो पाए\", font=\"Noto-Sans-Devanagari-UI-Bold\", fontsize=32)\n",
    "\n",
    "para5_audio = AudioFileClip(\"para55.mp3\")\n",
    "\n",
    "background = background.set_duration(para5_audio.duration)\n",
    "\n",
    "para5_video = CompositeVideoClip([background, para5.set_pos(general_pos)])\n",
    "\n",
    "para5_video = para5_video.set_duration(para5_audio.duration)\n",
    "\n",
    "#para5_video = para5_video.set_audio(para5_audio)\n",
    "\n",
    "#para5_video.preview()"
   ]
  },
  {
   "cell_type": "code",
   "execution_count": 138,
   "metadata": {
    "collapsed": false
   },
   "outputs": [],
   "source": [
    "poem_video = concatenate_videoclips([title_video, para1_video, para2_video, para3_video, para4_video, para5_video])"
   ]
  },
  {
   "cell_type": "code",
   "execution_count": 139,
   "metadata": {
    "collapsed": false,
    "scrolled": true
   },
   "outputs": [],
   "source": [
    "#poem_video.preview()"
   ]
  },
  {
   "cell_type": "code",
   "execution_count": 140,
   "metadata": {
    "collapsed": true
   },
   "outputs": [],
   "source": [
    "o1 = AudioFileClip(\"o1.mp3\")"
   ]
  },
  {
   "cell_type": "code",
   "execution_count": 141,
   "metadata": {
    "collapsed": true
   },
   "outputs": [],
   "source": [
    "o4 = AudioFileClip(\"o4.mp3\")"
   ]
  },
  {
   "cell_type": "code",
   "execution_count": 142,
   "metadata": {
    "collapsed": true
   },
   "outputs": [],
   "source": [
    "#poem_audio = concatenate_audioclips([title_audio, para1_audio, para2_audio, para3_audio, para4_audio, para5_audio])"
   ]
  },
  {
   "cell_type": "code",
   "execution_count": 143,
   "metadata": {
    "collapsed": true
   },
   "outputs": [],
   "source": [
    "poem_audio = concatenate_audioclips([o1, o4])"
   ]
  },
  {
   "cell_type": "code",
   "execution_count": 144,
   "metadata": {
    "collapsed": true
   },
   "outputs": [],
   "source": [
    "poem_video = poem_video.set_audio(poem_audio)"
   ]
  },
  {
   "cell_type": "code",
   "execution_count": null,
   "metadata": {
    "collapsed": false,
    "scrolled": true
   },
   "outputs": [
    {
     "name": "stdout",
     "output_type": "stream",
     "text": [
      "[MoviePy] >>>> Building video Output.mp4\n",
      "[MoviePy] Writing audio in OutputTEMP_MPY_wvf_snd.mp3\n"
     ]
    },
    {
     "name": "stderr",
     "output_type": "stream",
     "text": [
      "100%|██████████| 1700/1700 [00:01<00:00, 878.99it/s]"
     ]
    },
    {
     "name": "stdout",
     "output_type": "stream",
     "text": [
      "[MoviePy] Done.\n",
      "[MoviePy] Writing video Output.mp4\n"
     ]
    },
    {
     "name": "stderr",
     "output_type": "stream",
     "text": [
      "\n",
      "100%|█████████▉| 1904/1905 [00:45<00:00, 41.51it/s]\n"
     ]
    },
    {
     "name": "stdout",
     "output_type": "stream",
     "text": [
      "[MoviePy] Done.\n",
      "[MoviePy] >>>> Video ready: Output.mp4 \n",
      "\n"
     ]
    }
   ],
   "source": [
    "poem_video.write_videofile(\"Output.mp4\", fps=25)"
   ]
  },
  {
   "cell_type": "code",
   "execution_count": null,
   "metadata": {
    "collapsed": true
   },
   "outputs": [],
   "source": []
  }
 ],
 "metadata": {
  "kernelspec": {
   "display_name": "Python 2",
   "language": "python",
   "name": "python2"
  },
  "language_info": {
   "codemirror_mode": {
    "name": "ipython",
    "version": 2
   },
   "file_extension": ".py",
   "mimetype": "text/x-python",
   "name": "python",
   "nbconvert_exporter": "python",
   "pygments_lexer": "ipython2",
   "version": "2.7.12"
  }
 },
 "nbformat": 4,
 "nbformat_minor": 2
}
